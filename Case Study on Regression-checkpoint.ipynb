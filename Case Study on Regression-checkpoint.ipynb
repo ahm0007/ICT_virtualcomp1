{
 "cells": [
  {
   "cell_type": "code",
   "execution_count": 1,
   "id": "6da89add",
   "metadata": {},
   "outputs": [],
   "source": [
    "import pandas as pd\n",
    "import numpy as np\n",
    "from sklearn.linear_model import LinearRegression, Lasso\n",
    "from sklearn.model_selection import train_test_split\n",
    "from sklearn.metrics import mean_squared_error"
   ]
  },
  {
   "cell_type": "code",
   "execution_count": 2,
   "id": "8c6eaf71",
   "metadata": {},
   "outputs": [],
   "source": [
    "# Load the dataset\n",
    "data = pd.read_csv('car_age_price.csv')"
   ]
  },
  {
   "cell_type": "code",
   "execution_count": 3,
   "id": "8f95d92e",
   "metadata": {},
   "outputs": [],
   "source": [
    "#splitting the dataset into the feature (year) and target (price) variables\n",
    "X = data['Year'].values.reshape(-1, 1)\n",
    "y = data['Price'].values"
   ]
  },
  {
   "cell_type": "code",
   "execution_count": 4,
   "id": "5a3276e1",
   "metadata": {},
   "outputs": [],
   "source": [
    "#splitting the data into training and testing sets\n",
    "X_train, X_test, y_train, y_test = train_test_split(X, y, test_size=0.2, random_state=42)"
   ]
  },
  {
   "cell_type": "code",
   "execution_count": 5,
   "id": "0fe1c681",
   "metadata": {},
   "outputs": [],
   "source": [
    "# Train the linear regression model\n",
    "linear_reg = LinearRegression()\n",
    "linear_reg.fit(X_train, y_train)\n",
    "\n",
    "# Make predictions on the test set\n",
    "linear_predictions = linear_reg.predict(X_test)\n",
    "\n",
    "# Calculate the mean squared error (MSE)\n",
    "linear_mse = mean_squared_error(y_test, linear_predictions)"
   ]
  },
  {
   "cell_type": "code",
   "execution_count": 6,
   "id": "fdced1a9",
   "metadata": {},
   "outputs": [],
   "source": [
    "# Train the Lasso regression model\n",
    "lasso_reg = Lasso()\n",
    "lasso_reg.fit(X_train, y_train)\n",
    "\n",
    "# Make predictions on the test set\n",
    "lasso_predictions = lasso_reg.predict(X_test)\n",
    "\n",
    "# Calculate the mean squared error (MSE)\n",
    "lasso_mse = mean_squared_error(y_test, lasso_predictions)\n"
   ]
  },
  {
   "cell_type": "code",
   "execution_count": 7,
   "id": "8db2546e",
   "metadata": {},
   "outputs": [
    {
     "name": "stdout",
     "output_type": "stream",
     "text": [
      "Linear Regression MSE: 4326906256.829671\n",
      "Lasso Regression MSE: 4326859771.015669\n"
     ]
    }
   ],
   "source": [
    "# comparing the performance of both models\n",
    "print(\"Linear Regression MSE:\", linear_mse)\n",
    "print(\"Lasso Regression MSE:\", lasso_mse)"
   ]
  },
  {
   "cell_type": "code",
   "execution_count": 8,
   "id": "8a294e7c",
   "metadata": {},
   "outputs": [
    {
     "name": "stdout",
     "output_type": "stream",
     "text": [
      "Predicted Price for a 2022 Model: 715488.0785097629\n"
     ]
    }
   ],
   "source": [
    "# Train the linear regression model using the entire dataset\n",
    "linear_reg.fit(X, y)\n",
    "\n",
    "# Predict the price for a 2022 model\n",
    "predicted_price = linear_reg.predict([[2022]])\n",
    "print(\"Predicted Price for a 2022 Model:\", predicted_price[0])"
   ]
  },
  {
   "cell_type": "code",
   "execution_count": null,
   "id": "a231d231",
   "metadata": {},
   "outputs": [],
   "source": []
  }
 ],
 "metadata": {
  "kernelspec": {
   "display_name": "Python 3 (ipykernel)",
   "language": "python",
   "name": "python3"
  },
  "language_info": {
   "codemirror_mode": {
    "name": "ipython",
    "version": 3
   },
   "file_extension": ".py",
   "mimetype": "text/x-python",
   "name": "python",
   "nbconvert_exporter": "python",
   "pygments_lexer": "ipython3",
   "version": "3.9.12"
  }
 },
 "nbformat": 4,
 "nbformat_minor": 5
}
