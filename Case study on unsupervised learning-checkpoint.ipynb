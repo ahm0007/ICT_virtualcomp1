{
 "cells": [
  {
   "cell_type": "code",
   "execution_count": 1,
   "id": "6025f771",
   "metadata": {},
   "outputs": [],
   "source": [
    "import numpy as np\n",
    "import pandas as pd\n",
    "import matplotlib.pyplot as plt\n",
    "from sklearn.cluster import KMeans, AgglomerativeClustering, DBSCAN\n",
    "from sklearn.preprocessing import StandardScaler\n",
    "from sklearn.metrics import silhouette_score, calinski_harabasz_score, davies_bouldin_score"
   ]
  },
  {
   "cell_type": "code",
   "execution_count": 3,
   "id": "b0a6f58b",
   "metadata": {},
   "outputs": [],
   "source": [
    "data = pd.read_csv('Wine_clust.csv')\n",
    "X = data[['Alcohol','Malic_Acid','Ash','Ash_Alcanity','Magnesium','Total_Phenols','Flavanoids','Nonflavanoid_Phenols','Proanthocyanins','Color_Intensity','Hue','OD280','Proline']]\n",
    "\n",
    "# Standardize the features to have mean=0 and standard deviation=1\n",
    "scaler = StandardScaler()\n",
    "X_scaled = scaler.fit_transform(X)\n"
   ]
  },
  {
   "cell_type": "code",
   "execution_count": 4,
   "id": "8e0fc946",
   "metadata": {},
   "outputs": [],
   "source": [
    "def find_optimal_clusters(model, data, range_n_clusters):\n",
    "    best_score = -1\n",
    "    optimal_n_clusters = None\n",
    "\n",
    "    for n_clusters in range_n_clusters:\n",
    "        cluster_model = model(n_clusters=n_clusters, random_state=42)\n",
    "        cluster_labels = cluster_model.fit_predict(data)\n",
    "        \n",
    "        # Silhouette score (higher is better)\n",
    "        silhouette_avg = silhouette_score(data, cluster_labels)\n",
    "        \n",
    "        # Calinski-Harabasz score (higher is better)\n",
    "        calinski_score = calinski_harabasz_score(data, cluster_labels)\n",
    "        \n",
    "        # Davies-Bouldin score (lower is better)\n",
    "        davies_bouldin_score_avg = davies_bouldin_score(data, cluster_labels)\n",
    "        \n",
    "        # You can also try other metrics to evaluate the clustering performance\n",
    "        \n",
    "        # Taking the average of the scores here, but you can use any other criterion.\n",
    "        score_avg = (silhouette_avg + calinski_score + (1 / davies_bouldin_score_avg)) / 3\n",
    "        \n",
    "        if score_avg > best_score:\n",
    "            best_score = score_avg\n",
    "            optimal_n_clusters = n_clusters\n",
    "\n",
    "    return optimal_n_clusters\n"
   ]
  },
  {
   "cell_type": "code",
   "execution_count": 8,
   "id": "0817ae2e",
   "metadata": {},
   "outputs": [
    {
     "name": "stdout",
     "output_type": "stream",
     "text": [
      "For n_clusters=2, the silhouette score is 0.26831340971052126\n",
      "For n_clusters=3, the silhouette score is 0.2848589191898987\n",
      "For n_clusters=4, the silhouette score is 0.2614352045273167\n",
      "For n_clusters=5, the silhouette score is 0.25481042740970417\n",
      "For n_clusters=6, the silhouette score is 0.1954279440862444\n",
      "For n_clusters=7, the silhouette score is 0.19719778519132336\n",
      "For n_clusters=8, the silhouette score is 0.14370559736785465\n",
      "For n_clusters=9, the silhouette score is 0.15632097372774345\n",
      "For n_clusters=10, the silhouette score is 0.14639725203312745\n",
      "For n_clusters=2, the silhouette score is 0.2670131771272231\n",
      "For n_clusters=3, the silhouette score is 0.2774439826952265\n",
      "For n_clusters=4, the silhouette score is 0.225836659334758\n",
      "For n_clusters=5, the silhouette score is 0.18674235566758707\n",
      "For n_clusters=6, the silhouette score is 0.17966642854438503\n",
      "For n_clusters=7, the silhouette score is 0.18685342560226942\n",
      "For n_clusters=8, the silhouette score is 0.18834697102837825\n",
      "For n_clusters=9, the silhouette score is 0.1917169293227209\n",
      "For n_clusters=10, the silhouette score is 0.19856750165505588\n"
     ]
    }
   ],
   "source": [
    "from sklearn.cluster import KMeans, AgglomerativeClustering\n",
    "from sklearn.preprocessing import StandardScaler\n",
    "\n",
    "# ... (previous code)\n",
    "\n",
    "def find_optimal_clusters(model, data, range_n_clusters):\n",
    "    optimal_n_clusters = None\n",
    "\n",
    "    for n_clusters in range_n_clusters:\n",
    "        cluster_model = model(n_clusters=n_clusters)\n",
    "        cluster_labels = cluster_model.fit_predict(data)\n",
    "\n",
    "        # Silhouette score (higher is better)\n",
    "        silhouette_avg = silhouette_score(data, cluster_labels)\n",
    "        print(f\"For n_clusters={n_clusters}, the silhouette score is {silhouette_avg}\")\n",
    "\n",
    "        if optimal_n_clusters is None or silhouette_avg > optimal_silhouette:\n",
    "            optimal_n_clusters = n_clusters\n",
    "            optimal_silhouette = silhouette_avg\n",
    "\n",
    "    return optimal_n_clusters\n",
    "\n",
    "# ... (previous code)\n",
    "\n",
    "# Usage example for KMeans\n",
    "optimal_kmeans_clusters = find_optimal_clusters(KMeans, X_scaled, range_n_clusters)\n",
    "kmeans_model = KMeans(n_clusters=optimal_kmeans_clusters)\n",
    "kmeans_labels = kmeans_model.fit_predict(X_scaled)\n",
    "\n",
    "# Usage example for Agglomerative Clustering\n",
    "optimal_agg_clusters = find_optimal_clusters(AgglomerativeClustering, X_scaled, range_n_clusters)\n",
    "agg_model = AgglomerativeClustering(n_clusters=optimal_agg_clusters)\n",
    "agg_labels = agg_model.fit_predict(X_scaled)\n"
   ]
  },
  {
   "cell_type": "code",
   "execution_count": 9,
   "id": "1da62690",
   "metadata": {},
   "outputs": [
    {
     "name": "stdout",
     "output_type": "stream",
     "text": [
      "For n_clusters=2, the silhouette score is 0.26831340971052126\n",
      "For n_clusters=3, the silhouette score is 0.2848589191898987\n",
      "For n_clusters=4, the silhouette score is 0.2480025291433857\n",
      "For n_clusters=5, the silhouette score is 0.23517877055946282\n",
      "For n_clusters=6, the silhouette score is 0.20710628876426948\n",
      "For n_clusters=7, the silhouette score is 0.15664977680792785\n",
      "For n_clusters=8, the silhouette score is 0.1989058923144989\n",
      "For n_clusters=9, the silhouette score is 0.15213880073126265\n",
      "For n_clusters=10, the silhouette score is 0.1378580956992455\n",
      "For n_clusters=2, the silhouette score is 0.2670131771272231\n",
      "For n_clusters=3, the silhouette score is 0.2774439826952265\n",
      "For n_clusters=4, the silhouette score is 0.225836659334758\n",
      "For n_clusters=5, the silhouette score is 0.18674235566758707\n",
      "For n_clusters=6, the silhouette score is 0.17966642854438503\n",
      "For n_clusters=7, the silhouette score is 0.18685342560226942\n",
      "For n_clusters=8, the silhouette score is 0.18834697102837825\n",
      "For n_clusters=9, the silhouette score is 0.1917169293227209\n",
      "For n_clusters=10, the silhouette score is 0.19856750165505588\n"
     ]
    }
   ],
   "source": [
    "# Range of cluster numbers to explore\n",
    "range_n_clusters = range(2, 11)\n",
    "\n",
    "# K-means clustering\n",
    "optimal_kmeans_clusters = find_optimal_clusters(KMeans, X_scaled, range_n_clusters)\n",
    "kmeans_model = KMeans(n_clusters=optimal_kmeans_clusters, random_state=42)\n",
    "kmeans_labels = kmeans_model.fit_predict(X_scaled)\n",
    "\n",
    "# Agglomerative Hierarchical clustering\n",
    "optimal_agg_clusters = find_optimal_clusters(AgglomerativeClustering, X_scaled, range_n_clusters)\n",
    "agg_model = AgglomerativeClustering(n_clusters=optimal_agg_clusters)\n",
    "agg_labels = agg_model.fit_predict(X_scaled)\n"
   ]
  },
  {
   "cell_type": "code",
   "execution_count": 10,
   "id": "3606630f",
   "metadata": {},
   "outputs": [],
   "source": [
    "# DBSCAN clustering (no need to specify the number of clusters)\n",
    "dbscan_model = DBSCAN(eps=0.5, min_samples=5)\n",
    "dbscan_labels = dbscan_model.fit_predict(X_scaled)"
   ]
  },
  {
   "cell_type": "code",
   "execution_count": null,
   "id": "e4192f68",
   "metadata": {},
   "outputs": [],
   "source": []
  }
 ],
 "metadata": {
  "kernelspec": {
   "display_name": "Python 3 (ipykernel)",
   "language": "python",
   "name": "python3"
  },
  "language_info": {
   "codemirror_mode": {
    "name": "ipython",
    "version": 3
   },
   "file_extension": ".py",
   "mimetype": "text/x-python",
   "name": "python",
   "nbconvert_exporter": "python",
   "pygments_lexer": "ipython3",
   "version": "3.9.12"
  }
 },
 "nbformat": 4,
 "nbformat_minor": 5
}
