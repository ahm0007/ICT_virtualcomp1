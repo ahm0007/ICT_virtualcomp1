{
 "cells": [
  {
   "cell_type": "code",
   "execution_count": 1,
   "id": "732e41a1",
   "metadata": {},
   "outputs": [],
   "source": [
    "import pandas as pd\n",
    "\n",
    "# Load CSV file\n",
    "data = pd.read_csv('titanic_dataset.csv')"
   ]
  },
  {
   "cell_type": "code",
   "execution_count": 2,
   "id": "08063948",
   "metadata": {},
   "outputs": [],
   "source": [
    "# Set 'PassengerId' as the index column\n",
    "data.set_index('PassengerId', inplace=True)"
   ]
  },
  {
   "cell_type": "code",
   "execution_count": 3,
   "id": "626f71e7",
   "metadata": {},
   "outputs": [
    {
     "name": "stdout",
     "output_type": "stream",
     "text": [
      "Shape of the dataset: (891, 11)\n",
      "Column names: Index(['Survived', 'Pclass', 'Name', 'Sex', 'Age', 'SibSp', 'Parch', 'Ticket',\n",
      "       'Fare', 'Cabin', 'Embarked'],\n",
      "      dtype='object')\n",
      "Data types:\n",
      " Survived      int64\n",
      "Pclass        int64\n",
      "Name         object\n",
      "Sex          object\n",
      "Age         float64\n",
      "SibSp         int64\n",
      "Parch         int64\n",
      "Ticket       object\n",
      "Fare        float64\n",
      "Cabin        object\n",
      "Embarked     object\n",
      "dtype: object\n",
      "Summary statistics:\n",
      "          Survived      Pclass         Age       SibSp       Parch        Fare\n",
      "count  891.000000  891.000000  714.000000  891.000000  891.000000  891.000000\n",
      "mean     0.383838    2.308642   29.699118    0.523008    0.381594   32.204208\n",
      "std      0.486592    0.836071   14.526497    1.102743    0.806057   49.693429\n",
      "min      0.000000    1.000000    0.420000    0.000000    0.000000    0.000000\n",
      "25%      0.000000    2.000000   20.125000    0.000000    0.000000    7.910400\n",
      "50%      0.000000    3.000000   28.000000    0.000000    0.000000   14.454200\n",
      "75%      1.000000    3.000000   38.000000    1.000000    0.000000   31.000000\n",
      "max      1.000000    3.000000   80.000000    8.000000    6.000000  512.329200\n"
     ]
    }
   ],
   "source": [
    "# Check the number of rows and columns\n",
    "print(\"Shape of the dataset:\", data.shape)\n",
    "\n",
    "# Check the column names\n",
    "print(\"Column names:\", data.columns)\n",
    "\n",
    "# Check the data types of each column\n",
    "print(\"Data types:\\n\", data.dtypes)\n",
    "\n",
    "# Check summary statistics of the dataset\n",
    "print(\"Summary statistics:\\n\", data.describe())"
   ]
  },
  {
   "cell_type": "code",
   "execution_count": 4,
   "id": "cb87d1af",
   "metadata": {},
   "outputs": [
    {
     "name": "stdout",
     "output_type": "stream",
     "text": [
      "             Survived  Pclass  \\\n",
      "PassengerId                     \n",
      "1                   0       3   \n",
      "2                   1       1   \n",
      "3                   1       3   \n",
      "4                   1       1   \n",
      "5                   0       3   \n",
      "...               ...     ...   \n",
      "887                 0       2   \n",
      "888                 1       1   \n",
      "889                 0       3   \n",
      "890                 1       1   \n",
      "891                 0       3   \n",
      "\n",
      "                                                          Name     Sex  \\\n",
      "PassengerId                                                              \n",
      "1                                      Braund, Mr. Owen Harris    male   \n",
      "2            Cumings, Mrs. John Bradley (Florence Briggs Th...  female   \n",
      "3                                       Heikkinen, Miss. Laina  female   \n",
      "4                 Futrelle, Mrs. Jacques Heath (Lily May Peel)  female   \n",
      "5                                     Allen, Mr. William Henry    male   \n",
      "...                                                        ...     ...   \n",
      "887                                      Montvila, Rev. Juozas    male   \n",
      "888                               Graham, Miss. Margaret Edith  female   \n",
      "889                   Johnston, Miss. Catherine Helen \"Carrie\"  female   \n",
      "890                                      Behr, Mr. Karl Howell    male   \n",
      "891                                        Dooley, Mr. Patrick    male   \n",
      "\n",
      "                   Age  SibSp  Parch            Ticket     Fare Cabin Embarked  \n",
      "PassengerId                                                                     \n",
      "1            22.000000      1      0         A/5 21171   7.2500              S  \n",
      "2            38.000000      1      0          PC 17599  71.2833   C85        C  \n",
      "3            26.000000      0      0  STON/O2. 3101282   7.9250              S  \n",
      "4            35.000000      1      0            113803  53.1000  C123        S  \n",
      "5            35.000000      0      0            373450   8.0500              S  \n",
      "...                ...    ...    ...               ...      ...   ...      ...  \n",
      "887          27.000000      0      0            211536  13.0000              S  \n",
      "888          19.000000      0      0            112053  30.0000   B42        S  \n",
      "889          29.699118      1      2        W./C. 6607  23.4500              S  \n",
      "890          26.000000      0      0            111369  30.0000  C148        C  \n",
      "891          32.000000      0      0            370376   7.7500              Q  \n",
      "\n",
      "[891 rows x 11 columns]\n"
     ]
    }
   ],
   "source": [
    "# Fill missing values for numerical columns with mean\n",
    "data['Age'].fillna(data['Age'].mean(), inplace=True)\n",
    "data['Fare'].fillna(data['Fare'].mean(), inplace=True)\n",
    "\n",
    "# Fill missing values for categorical columns with mode\n",
    "data['Embarked'].fillna(data['Embarked'].mode()[0], inplace=True)\n",
    "\n",
    "# Fill missing values for text columns with empty string\n",
    "data['Cabin'].fillna('', inplace=True)\n",
    "\n",
    "# Display the updated dataset\n",
    "print(data)"
   ]
  },
  {
   "cell_type": "code",
   "execution_count": 6,
   "id": "a2c9da0a",
   "metadata": {},
   "outputs": [
    {
     "data": {
      "image/png": "[encoded data removed]",
      "text/plain": [
       "<Figure size 432x288 with 1 Axes>"
      ]
     },
     "metadata": {
      "needs_background": "light"
     },
     "output_type": "display_data"
    },
    {
     "data": {
      "image/png": "[encoded data removed]",
      "text/plain": [
       "<Figure size 432x288 with 1 Axes>"
      ]
     },
     "metadata": {
      "needs_background": "light"
     },
     "output_type": "display_data"
    },
    {
     "data": {
      "image/png": "[encoded data removed]",
      "text/plain": [
       "<Figure size 432x288 with 1 Axes>"
      ]
     },
     "metadata": {
      "needs_background": "light"
     },
     "output_type": "display_data"
    }
   ],
   "source": [
    "import matplotlib.pyplot as plt\n",
    "# Check and handle outliers in 'Age' column\n",
    "plt.boxplot(data['Age'].dropna())\n",
    "plt.title('Age')\n",
    "plt.show()\n",
    "\n",
    "# Check and handle outliers in 'Fare' column\n",
    "plt.boxplot(data['Fare'].dropna())\n",
    "plt.title('Fare')\n",
    "plt.show()\n",
    "\n",
    "# Check and handle outliers in 'SibSp' column\n",
    "plt.boxplot(data['SibSp'])\n",
    "plt.title('SibSp')\n",
    "plt.show()"
   ]
  },
  {
   "cell_type": "code",
   "execution_count": 15,
   "id": "e8b063a7",
   "metadata": {},
   "outputs": [],
   "source": [
    "import pandas as pd\n",
    "from sklearn.preprocessing import MinMaxScaler\n",
    "data = pd.read_csv('titanic_dataset.csv')\n",
    "data = data.drop(['PassengerId', 'Name', 'Ticket', 'Cabin', 'Embarked'], axis=1)\n",
    "data['Age'].fillna(data['Age'].median(), inplace=True)\n",
    "data = pd.get_dummies(data, columns=['Sex'])\n",
    "X = data.drop('Survived', axis=1)\n",
    "y = data['Survived']\n",
    "scaler = MinMaxScaler()\n",
    "X_scaled = scaler.fit_transform(X)\n"
   ]
  },
  {
   "cell_type": "code",
   "execution_count": 16,
   "id": "bfe1debf",
   "metadata": {},
   "outputs": [
    {
     "name": "stdout",
     "output_type": "stream",
     "text": [
      "Updated DataFrame:\n",
      "   Survived  Pclass   Age  SibSp  Parch     Fare  Sex_female  Sex_male\n",
      "0         0       3  22.0      1      0   7.2500           0         1\n",
      "1         1       1  38.0      1      0  71.2833           1         0\n",
      "2         1       3  26.0      0      0   7.9250           1         0\n",
      "3         1       1  35.0      1      0  53.1000           1         0\n",
      "4         0       3  35.0      0      0   8.0500           0         1\n",
      "Scaled feature set:\n",
      "[[1.         0.27117366 0.125      ... 0.01415106 0.         1.        ]\n",
      " [0.         0.4722292  0.125      ... 0.13913574 1.         0.        ]\n",
      " [1.         0.32143755 0.         ... 0.01546857 1.         0.        ]\n",
      " ...\n",
      " [1.         0.34656949 0.125      ... 0.04577135 1.         0.        ]\n",
      " [0.         0.32143755 0.         ... 0.0585561  0.         1.        ]\n",
      " [1.         0.39683338 0.         ... 0.01512699 0.         1.        ]]\n"
     ]
    }
   ],
   "source": [
    "import pandas as pd\n",
    "from sklearn.preprocessing import MinMaxScaler\n",
    "\n",
    "# Load the dataset into a DataFrame\n",
    "data = pd.read_csv('titanic_dataset.csv')\n",
    "\n",
    "# Remove unnecessary columns\n",
    "data = data.drop(['PassengerId', 'Name', 'Ticket', 'Cabin', 'Embarked'], axis=1)\n",
    "\n",
    "# Handle missing values\n",
    "data['Age'].fillna(data['Age'].median(), inplace=True)\n",
    "\n",
    "# Encode categorical variables\n",
    "data = pd.get_dummies(data, columns=['Sex'])\n",
    "\n",
    "# Split the data into features (X) and target (y)\n",
    "X = data.drop('Survived', axis=1)\n",
    "y = data['Survived']\n",
    "\n",
    "# Perform min-max scaling on the feature set\n",
    "scaler = MinMaxScaler()\n",
    "X_scaled = scaler.fit_transform(X)\n",
    "\n",
    "# Print the updated DataFrame\n",
    "print(\"Updated DataFrame:\")\n",
    "print(data.head())\n",
    "\n",
    "# Print the scaled feature set\n",
    "print(\"Scaled feature set:\")\n",
    "print(X_scaled)\n"
   ]
  },
  {
   "cell_type": "code",
   "execution_count": null,
   "id": "24a14325",
   "metadata": {},
   "outputs": [],
   "source": []
  }
 ],
 "metadata": {
  "kernelspec": {
   "display_name": "Python 3 (ipykernel)",
   "language": "python",
   "name": "python3"
  },
  "language_info": {
   "codemirror_mode": {
    "name": "ipython",
    "version": 3
   },
   "file_extension": ".py",
   "mimetype": "text/x-python",
   "name": "python",
   "nbconvert_exporter": "python",
   "pygments_lexer": "ipython3",
   "version": "3.9.12"
  }
 },
 "nbformat": 4,
 "nbformat_minor": 5
}
