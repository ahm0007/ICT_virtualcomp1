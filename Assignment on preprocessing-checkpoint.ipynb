{
 "cells": [
  {
   "cell_type": "code",
   "execution_count": 1,
   "id": "f7b298b1",
   "metadata": {},
   "outputs": [],
   "source": [
    "import pandas as pd\n",
    "\n",
    "# Load the dataset\n",
    "data = pd.read_csv(\"titanic.csv\")\n"
   ]
  },
  {
   "cell_type": "code",
   "execution_count": 2,
   "id": "382b8e78",
   "metadata": {},
   "outputs": [],
   "source": [
    "# Drop irrelevant columns\n",
    "data = data.drop([\"PassengerId\", \"Name\", \"Ticket\", \"Cabin\"], axis=1)\n",
    "\n",
    "# Handle missing values\n",
    "data[\"Age\"].fillna(data[\"Age\"].mean(), inplace=True)\n",
    "data[\"Embarked\"].fillna(data[\"Embarked\"].mode()[0], inplace=True)\n",
    "\n",
    "# Convert categorical variables to numerical\n",
    "data[\"Sex\"] = data[\"Sex\"].map({\"male\": 0, \"female\": 1})\n",
    "data[\"Embarked\"] = data[\"Embarked\"].map({\"S\": 0, \"C\": 1, \"Q\": 2})\n",
    "\n",
    "# Split the data into features (X) and target (y)\n",
    "X = data.drop(\"Survived\", axis=1)\n",
    "y = data[\"Survived\"]\n"
   ]
  },
  {
   "cell_type": "code",
   "execution_count": 3,
   "id": "ee1e5b39",
   "metadata": {},
   "outputs": [],
   "source": [
    "from sklearn.neighbors import KNeighborsClassifier\n",
    "from sklearn.svm import SVC\n",
    "\n",
    "# Create kNN model\n",
    "knn_model = KNeighborsClassifier()\n",
    "\n",
    "# Create SVM model\n",
    "svm_model = SVC()\n"
   ]
  },
  {
   "cell_type": "code",
   "execution_count": 4,
   "id": "48966573",
   "metadata": {},
   "outputs": [
    {
     "name": "stdout",
     "output_type": "stream",
     "text": [
      "kNN Average Accuracy: 0.6959300873907617\n",
      "SVM Average Accuracy: 0.6789637952559302\n"
     ]
    }
   ],
   "source": [
    "from sklearn.model_selection import cross_val_score, StratifiedKFold\n",
    "\n",
    "# Perform k-fold cross-validation for kNN\n",
    "kfold = 10\n",
    "knn_scores = cross_val_score(knn_model, X, y, cv=kfold)\n",
    "knn_avg_accuracy = knn_scores.mean()\n",
    "\n",
    "# Perform stratified k-fold cross-validation for SVM\n",
    "stratified_kfold = StratifiedKFold(n_splits=10, shuffle=True, random_state=42)\n",
    "svm_scores = cross_val_score(svm_model, X, y, cv=stratified_kfold)\n",
    "svm_avg_accuracy = svm_scores.mean()\n",
    "\n",
    "# Print the average accuracy scores\n",
    "print(\"kNN Average Accuracy:\", knn_avg_accuracy)\n",
    "print(\"SVM Average Accuracy:\", svm_avg_accuracy)\n"
   ]
  },
  {
   "cell_type": "code",
   "execution_count": null,
   "id": "fe7d972f",
   "metadata": {},
   "outputs": [],
   "source": []
  }
 ],
 "metadata": {
  "kernelspec": {
   "display_name": "Python 3 (ipykernel)",
   "language": "python",
   "name": "python3"
  },
  "language_info": {
   "codemirror_mode": {
    "name": "ipython",
    "version": 3
   },
   "file_extension": ".py",
   "mimetype": "text/x-python",
   "name": "python",
   "nbconvert_exporter": "python",
   "pygments_lexer": "ipython3",
   "version": "3.9.12"
  }
 },
 "nbformat": 4,
 "nbformat_minor": 5
}
