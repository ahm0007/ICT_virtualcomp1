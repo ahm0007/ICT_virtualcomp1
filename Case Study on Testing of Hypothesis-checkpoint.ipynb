{
 "cells": [
  {
   "cell_type": "code",
   "execution_count": 1,
   "id": "46793174",
   "metadata": {},
   "outputs": [
    {
     "name": "stdout",
     "output_type": "stream",
     "text": [
      "Mean sales before digital marketing: 149239.95\n",
      "Mean sales after digital marketing: 231123.73\n",
      "Difference in means: 81883.77\n",
      "Standard deviation of the difference: 6301.13\n",
      "t-statistic: 60.95\n",
      "p-value: 1.0000\n"
     ]
    }
   ],
   "source": [
    "import numpy as np\n",
    "from scipy.stats import t\n",
    "\n",
    "# Sales data before and after digital marketing\n",
    "sales_before = np.array([132921, 149559, 146278, 152167, 159525, 137163, 130625, 131140, 171259, 141956, 159339, 178939, 145062, 151514, 147463, 177195, 140862, 167996, 132135, 152493, 147425, 130263])\n",
    "sales_after = np.array([270390, 223334, 244243, 231808, 258402, 256948, 222106, 230637, 226261, 193735, 203175, 276279, 205180, 253131, 229336, 187305, 234908, 191517, 227040, 212579, 263388, 243020])\n",
    "\n",
    "# Calculate the mean sales before and after digital marketing\n",
    "mean_before = np.mean(sales_before)\n",
    "mean_after = np.mean(sales_after)\n",
    "\n",
    "# Calculate the difference between mean sales before and after digital marketing\n",
    "mean_diff = mean_after - mean_before\n",
    "\n",
    "# Calculate the standard deviation of the difference\n",
    "std_diff = np.sqrt((np.var(sales_before, ddof=1) / len(sales_before)) + (np.var(sales_after, ddof=1) / len(sales_after)))\n",
    "\n",
    "# Calculate the t-statistic and p-value\n",
    "n = len(sales_before)\n",
    "t_stat = mean_diff / (std_diff / np.sqrt(n))\n",
    "p_value = t.cdf(t_stat, df=n-1)\n",
    "\n",
    "# Print the results\n",
    "print(\"Mean sales before digital marketing: {:.2f}\".format(mean_before))\n",
    "print(\"Mean sales after digital marketing: {:.2f}\".format(mean_after))\n",
    "print(\"Difference in means: {:.2f}\".format(mean_diff))\n",
    "print(\"Standard deviation of the difference: {:.2f}\".format(std_diff))\n",
    "print(\"t-statistic: {:.2f}\".format(t_stat))\n",
    "print(\"p-value: {:.4f}\".format(p_value))\n"
   ]
  },
  {
   "cell_type": "code",
   "execution_count": 3,
   "id": "fef7f29d",
   "metadata": {},
   "outputs": [
    {
     "name": "stdout",
     "output_type": "stream",
     "text": [
      "Chi-square value: 3.050566893424036\n",
      "p-value: 0.5493991051158094\n",
      "Degrees of freedom: 4\n",
      "Expected frequencies:\n",
      " [[4.09090909 3.18181818 2.72727273]\n",
      " [2.86363636 2.22727273 1.90909091]\n",
      " [2.04545455 1.59090909 1.36363636]]\n"
     ]
    }
   ],
   "source": [
    "import pandas as pd\n",
    "from scipy.stats import chi2_contingency\n",
    "\n",
    "# Load data into a pandas DataFrame\n",
    "data = pd.read_csv('Sales_add.csv')\n",
    "\n",
    "# Create a contingency table of Region and Manager\n",
    "contingency_table = pd.crosstab(data['Region'], data['Manager'])\n",
    "\n",
    "# Perform chi-square test of independence\n",
    "chi2, p_value, dof, expected = chi2_contingency(contingency_table)\n",
    "\n",
    "# Print the results\n",
    "print('Chi-square value:', chi2)\n",
    "print('p-value:', p_value)\n",
    "print('Degrees of freedom:', dof)\n",
    "print('Expected frequencies:\\n', expected)\n"
   ]
  },
  {
   "cell_type": "code",
   "execution_count": null,
   "id": "5a93a5ac",
   "metadata": {},
   "outputs": [],
   "source": []
  }
 ],
 "metadata": {
  "kernelspec": {
   "display_name": "Python 3 (ipykernel)",
   "language": "python",
   "name": "python3"
  },
  "language_info": {
   "codemirror_mode": {
    "name": "ipython",
    "version": 3
   },
   "file_extension": ".py",
   "mimetype": "text/x-python",
   "name": "python",
   "nbconvert_exporter": "python",
   "pygments_lexer": "ipython3",
   "version": "3.9.12"
  }
 },
 "nbformat": 4,
 "nbformat_minor": 5
}
