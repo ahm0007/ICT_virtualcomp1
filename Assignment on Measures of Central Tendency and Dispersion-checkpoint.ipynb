{
 "cells": [
  {
   "cell_type": "code",
   "execution_count": 2,
   "id": "700f817c",
   "metadata": {},
   "outputs": [
    {
     "name": "stdout",
     "output_type": "stream",
     "text": [
      "Number of Males: 482\n",
      "Number of Females: 518\n"
     ]
    }
   ],
   "source": [
    "import pandas as pd\n",
    "\n",
    "# Load the data from the CSV file\n",
    "data = pd.read_csv('StudentsPerformance.csv')\n",
    "\n",
    "# Get the count of males and females\n",
    "gender_counts = data['gender'].value_counts()\n",
    "\n",
    "# Print the results\n",
    "print(\"Number of Males:\", gender_counts['male'])\n",
    "print(\"Number of Females:\", gender_counts['female'])\n"
   ]
  },
  {
   "cell_type": "code",
   "execution_count": 3,
   "id": "bb0b88e3",
   "metadata": {},
   "outputs": [
    {
     "name": "stdout",
     "output_type": "stream",
     "text": [
      "Counts of Parental Level of Education Categories:\n",
      "some college          226\n",
      "associate's degree    222\n",
      "high school           196\n",
      "some high school      179\n",
      "bachelor's degree     118\n",
      "master's degree        59\n",
      "Name: parental level of education, dtype: int64\n",
      "\n",
      "Proportions of Parental Level of Education Categories:\n",
      "some college          0.226\n",
      "associate's degree    0.222\n",
      "high school           0.196\n",
      "some high school      0.179\n",
      "bachelor's degree     0.118\n",
      "master's degree       0.059\n",
      "Name: parental level of education, dtype: float64\n"
     ]
    }
   ],
   "source": [
    "import pandas as pd\n",
    "\n",
    "# Load the data from the CSV file\n",
    "data = pd.read_csv('StudentsPerformance.csv')\n",
    "\n",
    "# Count the number of students in each parental level of education category\n",
    "parental_ed_counts = data['parental level of education'].value_counts()\n",
    "\n",
    "# Calculate the proportion of students in each category\n",
    "parental_ed_props = parental_ed_counts / parental_ed_counts.sum()\n",
    "\n",
    "# Print the results\n",
    "print(\"Counts of Parental Level of Education Categories:\")\n",
    "print(parental_ed_counts)\n",
    "print(\"\\nProportions of Parental Level of Education Categories:\")\n",
    "print(parental_ed_props)\n"
   ]
  },
  {
   "cell_type": "code",
   "execution_count": 4,
   "id": "7e1f1246",
   "metadata": {},
   "outputs": [
    {
     "name": "stdout",
     "output_type": "stream",
     "text": [
      "Average Scores by Gender and Test Preparation Course (Math):\n",
      "gender  test preparation course\n",
      "female  completed                  67.108696\n",
      "        none                       61.320359\n",
      "male    completed                  72.988506\n",
      "        none                       66.467532\n",
      "Name: math score, dtype: float64\n",
      "\n",
      "Average Scores by Gender and Test Preparation Course (Reading):\n",
      "gender  test preparation course\n",
      "female  completed                  77.375000\n",
      "        none                       69.955090\n",
      "male    completed                  70.793103\n",
      "        none                       62.581169\n",
      "Name: reading score, dtype: float64\n",
      "\n",
      "Average Scores by Gender and Test Preparation Course (Writing):\n",
      "gender  test preparation course\n",
      "female  completed                  78.793478\n",
      "        none                       68.982036\n",
      "male    completed                  70.339080\n",
      "        none                       59.551948\n",
      "Name: writing score, dtype: float64\n"
     ]
    }
   ],
   "source": [
    "import pandas as pd\n",
    "\n",
    "# Load the data from the CSV file\n",
    "data = pd.read_csv('StudentsPerformance.csv')\n",
    "\n",
    "# Calculate the average scores by gender and test preparation course\n",
    "gender_testprep_math_avg = data.groupby(['gender', 'test preparation course'])['math score'].mean()\n",
    "gender_testprep_reading_avg = data.groupby(['gender', 'test preparation course'])['reading score'].mean()\n",
    "gender_testprep_writing_avg = data.groupby(['gender', 'test preparation course'])['writing score'].mean()\n",
    "\n",
    "# Print the results\n",
    "print(\"Average Scores by Gender and Test Preparation Course (Math):\")\n",
    "print(gender_testprep_math_avg)\n",
    "print(\"\\nAverage Scores by Gender and Test Preparation Course (Reading):\")\n",
    "print(gender_testprep_reading_avg)\n",
    "print(\"\\nAverage Scores by Gender and Test Preparation Course (Writing):\")\n",
    "print(gender_testprep_writing_avg)\n"
   ]
  },
  {
   "cell_type": "code",
   "execution_count": 5,
   "id": "b92a5ac9",
   "metadata": {},
   "outputs": [
    {
     "name": "stdout",
     "output_type": "stream",
     "text": [
      "Standard Deviation of Scores by Gender and Test Preparation Course (Math):\n",
      "gender  test preparation course\n",
      "female  completed                  14.428233\n",
      "        none                       16.510686\n",
      "male    completed                  14.039164\n",
      "        none                       14.335746\n",
      "Name: math score, dtype: float64\n",
      "\n",
      "Standard Deviation of Scores by Gender and Test Preparation Course (Reading):\n",
      "gender  test preparation course\n",
      "female  completed                  12.695493\n",
      "        none                       14.636981\n",
      "male    completed                  13.612420\n",
      "        none                       13.595718\n",
      "Name: reading score, dtype: float64\n",
      "\n",
      "Standard Deviation of Scores by Gender and Test Preparation Course (Writing):\n",
      "gender  test preparation course\n",
      "female  completed                  12.240788\n",
      "        none                       15.016497\n",
      "male    completed                  12.887910\n",
      "        none                       13.468284\n",
      "Name: writing score, dtype: float64\n"
     ]
    }
   ],
   "source": [
    "import pandas as pd\n",
    "\n",
    "# Load the data from the CSV file\n",
    "data = pd.read_csv('StudentsPerformance.csv')\n",
    "\n",
    "# Calculate the standard deviation of scores by gender and test preparation course\n",
    "gender_testprep_math_std = data.groupby(['gender', 'test preparation course'])['math score'].std()\n",
    "gender_testprep_reading_std = data.groupby(['gender', 'test preparation course'])['reading score'].std()\n",
    "gender_testprep_writing_std = data.groupby(['gender', 'test preparation course'])['writing score'].std()\n",
    "\n",
    "# Print the results\n",
    "print(\"Standard Deviation of Scores by Gender and Test Preparation Course (Math):\")\n",
    "print(gender_testprep_math_std)\n",
    "print(\"\\nStandard Deviation of Scores by Gender and Test Preparation Course (Reading):\")\n",
    "print(gender_testprep_reading_std)\n",
    "print(\"\\nStandard Deviation of Scores by Gender and Test Preparation Course (Writing):\")\n",
    "print(gender_testprep_writing_std)\n"
   ]
  },
  {
   "cell_type": "code",
   "execution_count": 6,
   "id": "3c50d547",
   "metadata": {},
   "outputs": [
    {
     "name": "stdout",
     "output_type": "stream",
     "text": [
      "Top 25% of Students Based on Math Score (with Bonus Points):\n",
      "     gender race/ethnicity parental level of education         lunch  \\\n",
      "414  female        group A                 high school  free/reduced   \n",
      "415  female        group B             master's degree  free/reduced   \n",
      "416  female        group B           bachelor's degree  free/reduced   \n",
      "417  female        group B             master's degree      standard   \n",
      "418  female        group B                 high school      standard   \n",
      "..      ...            ...                         ...           ...   \n",
      "995    male        group E                some college      standard   \n",
      "996    male        group A                some college      standard   \n",
      "997    male        group D                some college      standard   \n",
      "998    male        group E          associate's degree  free/reduced   \n",
      "999    male        group E           bachelor's degree      standard   \n",
      "\n",
      "    test preparation course  math score  reading score  writing score  \\\n",
      "414               completed          77             88             85   \n",
      "415               completed          77             97             94   \n",
      "416                    none          77             85             87   \n",
      "417                    none          77             90             84   \n",
      "418               completed          77             82             89   \n",
      "..                      ...         ...            ...            ...   \n",
      "995               completed          99             87             81   \n",
      "996               completed         100             96             86   \n",
      "997               completed         100             97             99   \n",
      "998               completed         100            100             93   \n",
      "999               completed         100            100            100   \n",
      "\n",
      "     bonus points  \n",
      "414          3.85  \n",
      "415          3.85  \n",
      "416          3.85  \n",
      "417          3.85  \n",
      "418          3.85  \n",
      "..            ...  \n",
      "995          4.95  \n",
      "996          5.00  \n",
      "997          5.00  \n",
      "998          5.00  \n",
      "999          5.00  \n",
      "\n",
      "[255 rows x 9 columns]\n"
     ]
    },
    {
     "name": "stderr",
     "output_type": "stream",
     "text": [
      "C:\\Users\\NISHANA NIZARKHAN\\AppData\\Local\\Temp\\ipykernel_3140\\3232497921.py:16: SettingWithCopyWarning: \n",
      "A value is trying to be set on a copy of a slice from a DataFrame.\n",
      "Try using .loc[row_indexer,col_indexer] = value instead\n",
      "\n",
      "See the caveats in the documentation: https://pandas.pydata.org/pandas-docs/stable/user_guide/indexing.html#returning-a-view-versus-a-copy\n",
      "  top_25_math['bonus points'] = bonus_points\n"
     ]
    }
   ],
   "source": [
    "import pandas as pd\n",
    "\n",
    "# Load the data from the CSV file\n",
    "data = pd.read_csv('StudentsPerformance.csv')\n",
    "\n",
    "# Calculate the math score cutoff for the top 25% of students\n",
    "math_score_cutoff = data['math score'].quantile(0.75)\n",
    "\n",
    "# Filter the data to include only the top 25% of students based on math score\n",
    "top_25_math = data[data['math score'] >= math_score_cutoff]\n",
    "\n",
    "# Calculate the bonus points as a percentage of the math score\n",
    "bonus_points = top_25_math['math score'] * 0.05\n",
    "\n",
    "# Add the bonus points to a new column in the DataFrame\n",
    "top_25_math['bonus points'] = bonus_points\n",
    "\n",
    "# Print the results\n",
    "print(\"Top 25% of Students Based on Math Score (with Bonus Points):\")\n",
    "print(top_25_math)\n"
   ]
  },
  {
   "cell_type": "code",
   "execution_count": null,
   "id": "78e75de3",
   "metadata": {},
   "outputs": [],
   "source": []
  }
 ],
 "metadata": {
  "kernelspec": {
   "display_name": "Python 3 (ipykernel)",
   "language": "python",
   "name": "python3"
  },
  "language_info": {
   "codemirror_mode": {
    "name": "ipython",
    "version": 3
   },
   "file_extension": ".py",
   "mimetype": "text/x-python",
   "name": "python",
   "nbconvert_exporter": "python",
   "pygments_lexer": "ipython3",
   "version": "3.9.12"
  }
 },
 "nbformat": 4,
 "nbformat_minor": 5
}
